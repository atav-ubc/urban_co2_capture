{
  "nbformat": 4,
  "nbformat_minor": 0,
  "metadata": {
    "colab": {
      "provenance": [],
      "collapsed_sections": [
        "c36EWpsjLroO",
        "ur794mU2c8o6"
      ]
    },
    "kernelspec": {
      "name": "python3",
      "display_name": "Python 3"
    },
    "language_info": {
      "name": "python"
    }
  },
  "cells": [
    {
      "cell_type": "markdown",
      "source": [
        "# Calculations for *Feasibility and Design of Distributed Carbon Dioxide Capture Networks in Urban Environments*\n",
        "\n",
        "Alexandra Tavasoli, Betar Gallant, and T. Alan Hatton"
      ],
      "metadata": {
        "id": "jZQM2iPsK0XP"
      }
    },
    {
      "cell_type": "markdown",
      "source": [
        "## Part 1: Magnitude of Capture Potential"
      ],
      "metadata": {
        "id": "c36EWpsjLroO"
      }
    },
    {
      "cell_type": "code",
      "execution_count": 26,
      "metadata": {
        "colab": {
          "base_uri": "https://localhost:8080/"
        },
        "id": "snfOGI1s9Gnb",
        "outputId": "d5fae892-aebb-4da8-82e2-08f60dc63dc0"
      },
      "outputs": [
        {
          "output_type": "stream",
          "name": "stdout",
          "text": [
            "The total emissions from Boston are: 4.50 MtCO2 y-1\n"
          ]
        }
      ],
      "source": [
        "# CO2 Profile of Boston #\n",
        "\n",
        "large_building_total_emissions = 1.6 # MtCO2 y-1\n",
        "number_of_large_buildings = 16923\n",
        "\n",
        "small_building_total_emissions = 0.8 # MtCO2 y-1\n",
        "number_of_small_buildings = 69416\n",
        "\n",
        "human_respiration = 0.3 # MtCO2 y-1\n",
        "\n",
        "transportation_emissions_total = 1.8 # MtCO2 y-1\n",
        "number_of_major_traffic_tunnels = 7\n",
        "\n",
        "total_Boston_emissions = large_building_total_emissions + small_building_total_emissions + human_respiration + transportation_emissions_total\n",
        "print(f\"The total emissions from Boston are: {total_Boston_emissions:.2f} MtCO2 y-1\")"
      ]
    },
    {
      "cell_type": "code",
      "source": [
        "# Capture Potential for Buildings #\n",
        "\n",
        "# Hard to Abate Emissions from Building Point Sources #\n",
        "\n",
        "plan_to_abate_percentage_large_buildings = 0.92\n",
        "plan_to_abate_percentage_small_buildings = 0.95\n",
        "\n",
        "hard_to_abate_emissions_large_buildings = large_building_total_emissions*(1-plan_to_abate_percentage_large_buildings)\n",
        "hard_to_abate_emissions_small_buildings = small_building_total_emissions*(1-plan_to_abate_percentage_small_buildings)\n",
        "\n",
        "print(f\"The hard to abate emissions from large buildings are: {hard_to_abate_emissions_large_buildings:.2f} MtCO2 y-1\")\n",
        "print(f\"The hard to abate emissions from small buildings are: {hard_to_abate_emissions_small_buildings:.2f} MtCO2 y-1\")\n",
        "\n",
        "total_hard_to_abate_emissions = hard_to_abate_emissions_large_buildings + hard_to_abate_emissions_small_buildings\n",
        "print(f\"The total hard to abate emissions are: {total_hard_to_abate_emissions:.2f} MtCO2 y-1\")\n",
        "\n",
        "percent_boston_emissions_hard_to_abate_buildings = total_hard_to_abate_emissions/total_Boston_emissions\n",
        "print(f\"The fraction of Boston's building emissions that are hard to abate are: {percent_boston_emissions_hard_to_abate_buildings:.3f}\")\n",
        "\n"
      ],
      "metadata": {
        "colab": {
          "base_uri": "https://localhost:8080/"
        },
        "id": "vtFZpLjT-Iw7",
        "outputId": "d0d2775f-806a-4518-941c-6472e6bec287"
      },
      "execution_count": 27,
      "outputs": [
        {
          "output_type": "stream",
          "name": "stdout",
          "text": [
            "The hard to abate emissions from large buildings are: 0.13 MtCO2 y-1\n",
            "The hard to abate emissions from small buildings are: 0.04 MtCO2 y-1\n",
            "The total hard to abate emissions are: 0.17 MtCO2 y-1\n",
            "The fraction of Boston's building emissions that are hard to abate are: 0.037\n"
          ]
        }
      ]
    },
    {
      "cell_type": "code",
      "source": [
        "# Building HVAC Systems #\n",
        "\n",
        "def Circulation_Rate_Building_HVAC_tCO2_per_year(TotalSF, NumBuild, ACPH, CO2ppm, hours_per_day):\n",
        "    Totalm2 = TotalSF/10.76 # m2\n",
        "    CeilingHeight = 3 #m\n",
        "    AreaPB = Totalm2/NumBuild # m2\n",
        "    R = 8.314 # J/mol-K\n",
        "    T = 298.15 # K\n",
        "    M_CO2 = 44.01 # g / mol CO2\n",
        "    VperTonneCO2 = ((1000000*R*T/101325)/(CO2ppm * M_CO2))*(1000000)\n",
        "    hours_per_year = hours_per_day*365\n",
        "    CO2_circulation_rate = (hours_per_year * ACPH * AreaPB * CeilingHeight)/VperTonneCO2 # tCO2/y\n",
        "    return CO2_circulation_rate\n",
        "\n",
        "day_hours = 9 # hours (9am to 6pm)\n",
        "night_hours = 15 # hours (6pm to 9am)\n",
        "\n",
        "# large buildings\n",
        "\n",
        "NumBuild_large = 16923\n",
        "TotalSF_large = 420000000 # ft2\n",
        "ACPH_large = 1.25\n",
        "CO2ppm_day_large = 480 # ppm\n",
        "CO2ppm_night_large = 420 # ppm\n",
        "\n",
        "large_building_annual_CO2_circulation_rate = Circulation_Rate_Building_HVAC_tCO2_per_year(TotalSF_large, NumBuild_large, ACPH_large, CO2ppm_day_large, day_hours) + Circulation_Rate_Building_HVAC_tCO2_per_year(TotalSF_large, NumBuild_large, ACPH_large, CO2ppm_night_large, night_hours)\n",
        "print(f\"The annual CO2 circulation rate for large buildings is: {large_building_annual_CO2_circulation_rate:.2f} tCO2/y per building.\")\n",
        "\n",
        "large_building_annual_CO2_circulation_rate_day = Circulation_Rate_Building_HVAC_tCO2_per_year(TotalSF_large, NumBuild_large, ACPH_large, CO2ppm_day_large, day_hours)\n",
        "print(f\"The annual CO2 circulation rate for large buildings during the day is: {large_building_annual_CO2_circulation_rate_day:.2f} tCO2/y per building.\")\n",
        "\n",
        "large_building_annual_CO2_circulation_rate_night = Circulation_Rate_Building_HVAC_tCO2_per_year(TotalSF_large, NumBuild_large, ACPH_large, CO2ppm_night_large, night_hours)\n",
        "print(f\"The annual CO2 circulation rate for large buildings during the night is: {large_building_annual_CO2_circulation_rate_night:.2f} tCO2/y per building.\")\n",
        "\n",
        "total_large_building_annual_CO2_circulation_rate = large_building_annual_CO2_circulation_rate*number_of_large_buildings\n",
        "print(f\"The total annual CO2 circulation rate for large buildings is: {total_large_building_annual_CO2_circulation_rate:.2f} tCO2/y.\")\n",
        "\n",
        "total_large_building_annual_CO2_circulation_rate_day = large_building_annual_CO2_circulation_rate_day*number_of_large_buildings\n",
        "print(f\"The total annual CO2 circulation rate for large buildings during the day is: {total_large_building_annual_CO2_circulation_rate_day:.2f} tCO2/y.\")\n",
        "\n"
      ],
      "metadata": {
        "colab": {
          "base_uri": "https://localhost:8080/"
        },
        "id": "YC46IXYgxqw8",
        "outputId": "746cea25-b258-4cf5-c973-5c50937bc82e"
      },
      "execution_count": 28,
      "outputs": [
        {
          "output_type": "stream",
          "name": "stdout",
          "text": [
            "The annual CO2 circulation rate for large buildings is: 60.32 tCO2/y per building.\n",
            "The annual CO2 circulation rate for large buildings during the day is: 24.54 tCO2/y per building.\n",
            "The annual CO2 circulation rate for large buildings during the night is: 35.78 tCO2/y per building.\n",
            "The total annual CO2 circulation rate for large buildings is: 1020725.15 tCO2/y.\n",
            "The total annual CO2 circulation rate for large buildings during the day is: 415210.23 tCO2/y.\n"
          ]
        }
      ]
    },
    {
      "cell_type": "code",
      "source": [
        "# small buildings\n",
        "\n",
        "NumBuild_small = 69416\n",
        "TotalSF_small =  250000000# ft2\n",
        "ACPH_small = 0.35\n",
        "CO2ppm_day_small = 420 # ppm\n",
        "CO2ppm_night_small = 480 # ppm\n",
        "\n",
        "small_building_annual_CO2_circulation_rate = Circulation_Rate_Building_HVAC_tCO2_per_year(TotalSF_small, NumBuild_small, ACPH_small, CO2ppm_day_small, day_hours)+Circulation_Rate_Building_HVAC_tCO2_per_year(TotalSF_small, NumBuild_small, ACPH_small, CO2ppm_night_small, night_hours)\n",
        "print(f\"The annual CO2 circulation rate for small buildings is: {small_building_annual_CO2_circulation_rate:.2f} tCO2/y per building.\")\n",
        "\n",
        "small_building_annual_CO2_circulation_rate_night = Circulation_Rate_Building_HVAC_tCO2_per_year(TotalSF_small, NumBuild_small, ACPH_small, CO2ppm_night_small, night_hours)\n",
        "print(f\"The annual CO2 circulation rate for small buildings during the night is: {small_building_annual_CO2_circulation_rate_night:.2f} tCO2/y per building.\")\n",
        "\n",
        "total_small_building_annual_CO2_circulation_rate_night = small_building_annual_CO2_circulation_rate_night*number_of_small_buildings\n",
        "print(f\"The total annual CO2 circulation rate for small buildings during the night is: {total_small_building_annual_CO2_circulation_rate_night:.2f} tCO2/y.\")\n",
        "\n",
        "small_building_annual_CO2_circulation_rate_day = Circulation_Rate_Building_HVAC_tCO2_per_year(TotalSF_small, NumBuild_small, ACPH_small, CO2ppm_day_small, day_hours)\n",
        "print(f\"The annual CO2 circulation rate for small buildings during the day is: {small_building_annual_CO2_circulation_rate_day:.2f} tCO2/y per building.\")\n",
        "\n",
        "total_small_building_annual_CO2_circulation_rate = small_building_annual_CO2_circulation_rate*number_of_small_buildings\n",
        "print(f\"The total annual CO2 circulation rate for small buildings is: {total_small_building_annual_CO2_circulation_rate:.2f} tCO2/y.\")\n",
        "\n",
        "total_small_building_annual_CO2_circulation_rate_day = small_building_annual_CO2_circulation_rate_day*number_of_small_buildings\n",
        "print(f\"The total annual CO2 circulation rate for small buildings during the day is: {total_small_building_annual_CO2_circulation_rate_day:.2f} tCO2/y.\")"
      ],
      "metadata": {
        "colab": {
          "base_uri": "https://localhost:8080/"
        },
        "id": "yAAm_xN-q6FI",
        "outputId": "eb4b4696-fb92-4d9b-a480-a492985867e9"
      },
      "execution_count": 29,
      "outputs": [
        {
          "output_type": "stream",
          "name": "stdout",
          "text": [
            "The annual CO2 circulation rate for small buildings is: 2.53 tCO2/y per building.\n",
            "The annual CO2 circulation rate for small buildings during the night is: 1.66 tCO2/y per building.\n",
            "The total annual CO2 circulation rate for small buildings during the night is: 115336.18 tCO2/y.\n",
            "The annual CO2 circulation rate for small buildings during the day is: 0.87 tCO2/y per building.\n",
            "The total annual CO2 circulation rate for small buildings is: 175887.67 tCO2/y.\n",
            "The total annual CO2 circulation rate for small buildings during the day is: 60551.49 tCO2/y.\n"
          ]
        }
      ]
    },
    {
      "cell_type": "code",
      "source": [
        "# Traffic Tunnels #\n",
        "\n",
        "def caprate_tunnels(tunnel_area, linvel_air_tunnels, CO2ppm_tunnels):\n",
        "    spy = 3.154*(10**7)\n",
        "    R = 8.314 # gas constant\n",
        "    T = 298.15 # temperature\n",
        "    M_CO2 = 44.01 # molar mass of CO2\n",
        "    VperTonneCO2 = ((1000000*R*T/101325)/(CO2ppm_tunnels*M_CO2))*(1000000)\n",
        "    caprate_tunnels = (tunnel_area*linvel_air_tunnels*spy)/VperTonneCO2\n",
        "    return caprate_tunnels\n",
        "\n",
        "tunnel_area = 7*0.5 #m2\n",
        "linvel_air_tunnels = 1.47 # m/s from Deng et al model\n",
        "CO2ppm_tunnels = 1000 #ppm\n",
        "\n",
        "capratePT = caprate_tunnels(tunnel_area, linvel_air_tunnels, CO2ppm_tunnels)\n",
        "print (\"Annual CO2 capture from each tunnel is %s tCO2/y\" % round(capratePT,2))\n",
        "\n",
        "total_capratePT = capratePT*number_of_major_traffic_tunnels\n",
        "print (\"Total annual CO2 capture from tunnels is %s tCO2/y\" % round(total_capratePT,2))\n",
        "\n",
        "total_tunnel_capture = 7*total_capratePT\n",
        "print (\"Total annual CO2 capture from tunnels is %s tCO2/y\" % round(total_tunnel_capture,2))"
      ],
      "metadata": {
        "colab": {
          "base_uri": "https://localhost:8080/"
        },
        "id": "AlmchsusA2G8",
        "outputId": "71eca3d7-185b-4916-a946-f3eeb49eef73"
      },
      "execution_count": 30,
      "outputs": [
        {
          "output_type": "stream",
          "name": "stdout",
          "text": [
            "Annual CO2 capture from each tunnel is 291.92 tCO2/y\n",
            "Total annual CO2 capture from tunnels is 2043.47 tCO2/y\n",
            "Total annual CO2 capture from tunnels is 14304.29 tCO2/y\n"
          ]
        }
      ]
    },
    {
      "cell_type": "code",
      "source": [
        "# percent of Boston's emissions able to be captured from infrastructure\n",
        "\n",
        "total_city_capture_rate = (total_tunnel_capture + total_small_building_annual_CO2_circulation_rate + total_large_building_annual_CO2_circulation_rate)/1000000\n",
        "print(f\"The total annual CO2 capture rate is: {total_city_capture_rate:.2f} MtCO2/y\")\n",
        "\n",
        "percent_boston_emissions_captured = (total_city_capture_rate/total_Boston_emissions)*100\n",
        "print(f\"The fraction of Boston's emissions that are captured is: {percent_boston_emissions_captured:.2f}\")"
      ],
      "metadata": {
        "colab": {
          "base_uri": "https://localhost:8080/"
        },
        "id": "eG1HmdkmsITS",
        "outputId": "d152105a-8f2a-428e-c0f2-ace46c56679a"
      },
      "execution_count": 31,
      "outputs": [
        {
          "output_type": "stream",
          "name": "stdout",
          "text": [
            "The total annual CO2 capture rate is: 1.21 MtCO2/y\n",
            "The fraction of Boston's emissions that are captured is: 26.91\n"
          ]
        }
      ]
    },
    {
      "cell_type": "code",
      "source": [
        "# Ambient Urban Atmosphere #\n",
        "\n",
        "# percentage of time above 420 ppm - Boston University site\n",
        "\n",
        "import requests\n",
        "import pandas as pd\n",
        "from io import StringIO\n",
        "\n",
        "url = 'https://github.com/atav-ubc/urban_co2_capture/raw/refs/heads/main/boston_co2_BU_29m_1_hour_R0_2020-09-28.txt'\n",
        "response = requests.get(url)\n",
        "data_BU_CO2USA = response.text\n",
        "\n",
        "column_names = [\n",
        "    \"time\", \"time_string\", \"co2\", \"std_dev\", \"n\", \"uncertainty\",\n",
        "    \"lat\", \"lon\", \"elevation\", \"inlet_height\"\n",
        "]\n",
        "\n",
        "data_BU_CO2USA_df = pd.read_csv(StringIO(data_BU_CO2USA), skiprows=116, names=column_names)\n",
        "\n",
        "df_clean = data_BU_CO2USA_df.dropna(subset=['co2'])\n",
        "\n",
        "percentage_high = 100 * (df_clean['co2'] > 420).sum() / len(df_clean)\n",
        "\n",
        "print(f\"Percentage of time CO2 > 420 ppm: {percentage_high:.2f}%\")"
      ],
      "metadata": {
        "colab": {
          "base_uri": "https://localhost:8080/"
        },
        "id": "hVqotKJncwaG",
        "outputId": "787a045e-6d62-4c5d-aad4-fb731807d1ba"
      },
      "execution_count": 32,
      "outputs": [
        {
          "output_type": "stream",
          "name": "stdout",
          "text": [
            "Percentage of time CO2 > 420 ppm: 53.94%\n"
          ]
        }
      ]
    },
    {
      "cell_type": "markdown",
      "source": [
        "# Part 2: Energy Consumption"
      ],
      "metadata": {
        "id": "tMb1_dKZ2dde"
      }
    },
    {
      "cell_type": "code",
      "source": [
        "def Wmin_kJkg(CO2ppm):\n",
        "    # calculates min work in kJ/kg CO2 to separate CO2 from an ideal binary gas mix of CO2 + air\n",
        "    # assumes full capture of CO2\n",
        "    y = CO2ppm/1000000  # mol frac CO2\n",
        "    R = 8.314 # gas constant\n",
        "    T = 298.15 # temperature\n",
        "    M_CO2 = 44.01 # molar mass of CO2\n",
        "    z = 1-y # mol fraction of air\n",
        "    Wmin_kJkg = ((-R*T)/(y*M_CO2))*((y*np.log(y))+((z*np.log(z))))\n",
        "    return Wmin_kJkg\n",
        "\n",
        "def VperTonneCO2(CO2ppm):\n",
        "    R = 8.314 # gas constant\n",
        "    T = 298.15 # temperature\n",
        "    M_CO2 = 44.01 # molar mass of CO2\n",
        "    VperTonneCO2 = ((1000000*R*T/101325)/(CO2ppm*M_CO2))*(1000000)\n",
        "    return VperTonneCO2 # m3/tCO2\n",
        "\n",
        "def Area(NumBuild, TotalSF):\n",
        "    Totalm2 = TotalSF/10.76\n",
        "    Area = Totalm2/NumBuild #distribute total floor area per building\n",
        "    return Area\n",
        "\n",
        "def AirFlowRate_buildings(Area, ACPH):\n",
        "    ceiling = 3 #m\n",
        "    AirFlowRate = ACPH*Area*ceiling/3600\n",
        "    return AirFlowRate #m3/s\n",
        "\n",
        "def CapRate(AirFlowRate, CO2ppm): #caprate for buildings, traffic differently defined below\n",
        "    spy = 3.154*(10**7)\n",
        "    CapRate = AirFlowRate*spy/VperTonneCO2(CO2ppm)\n",
        "    return CapRate # t/y\n",
        "\n",
        "def Wfan(dP_contactor, AirFlowRate):\n",
        "    fan_efficiency = 0.6\n",
        "    Wfan = dP_contactor* AirFlowRate / fan_efficiency / 1000\n",
        "    return Wfan # kJ/s\n",
        "\n",
        "def Wsep(TotalCapRate, CO2ppm):\n",
        "    w = (Wmin_kJkg(CO2ppm)/0.4) # kJ/kg\n",
        "    spy = 3.154*(10**7)\n",
        "    kgCO2perS = (TotalCapRate*1000)/spy\n",
        "    Wsep = w * kgCO2perS\n",
        "    return Wsep # kJ/s\n",
        "\n",
        "def Wcomp(TotalCapRate, Compression_P):\n",
        "    # work of isothermal compression of pure stream of CO2\n",
        "    R = 8.314 # gas constant\n",
        "    T = 298.15 # temperature\n",
        "    M_CO2 = 44.01 # molar mass of CO2\n",
        "    spy = 3.154*(10**7)\n",
        "    w = (TotalCapRate/spy)*(1000000/M_CO2) #mol/s CO2\n",
        "    Wcomp = (w*R*T*np.log(Compression_P/1))/1000\n",
        "    return Wcomp # kJ/s\n",
        "\n",
        "# common parameters\n",
        "\n",
        "dP_contactor = 75 # Pa\n",
        "Compression_P = 24.1 # bar"
      ],
      "metadata": {
        "id": "VnOZaC6KRdmI"
      },
      "execution_count": 33,
      "outputs": []
    },
    {
      "cell_type": "code",
      "source": [
        "# large buildings\n",
        "\n",
        "import numpy as np\n",
        "\n",
        "large_buildings_emissions = large_building_annual_CO2_circulation_rate_day # tCO2/y\n",
        "numBuild_large = 16923\n",
        "TotalSF_large = 420000000\n",
        "ACPH_large = 1.25\n",
        "CO2ppm_large = 480\n",
        "\n",
        "areaPB_large = round(Area(numBuild_large, TotalSF_large), 2)\n",
        "airflow_large = round(AirFlowRate_buildings(areaPB_large, ACPH_large),2)\n",
        "capratePB_large = round(CapRate(airflow_large, CO2ppm_large),2)\n",
        "caprate_large = CapRate(airflow_large, CO2ppm_large)*numBuild_large\n",
        "\n",
        "min_work_large_buildings = Wmin_kJkg(CO2ppm_large)\n",
        "print (\"Min Work = %s kJ/kgCO2\" % round(min_work_large_buildings, 2))\n",
        "\n",
        "fanE_large_buildings = Wfan(dP_contactor, airflow_large)\n",
        "print (\"Fan energy for all buildings = %s kW\" % round(fanE_large_buildings,4))\n",
        "\n",
        "sepE_large_buildings = Wsep(capratePB_large, CO2ppm_large)\n",
        "print (\"Separation energy = %s kW\" % round(sepE_large_buildings,2))\n",
        "\n",
        "compE_large_buildings = Wcomp(capratePB_large, Compression_P)\n",
        "print (\"Compression energy = %s kW\" % round(compE_large_buildings,2))\n",
        "\n",
        "total_power_large_buildings = fanE_large_buildings + sepE_large_buildings + compE_large_buildings\n",
        "print (\"Total power requirement = %s kW\" % round(total_power_large_buildings,2))\n",
        "\n",
        "spy = 3.154*(10**7)\n",
        "\n",
        "total_annual_energy_large_buildings = (total_power_large_buildings*(8760))\n",
        "print (\"Total annual energy requirement = %s kWh\" % round(total_annual_energy_large_buildings,2))\n",
        "\n",
        "total_energy_per_tCO2_large_buildings = total_annual_energy_large_buildings/(capratePB_large)\n",
        "print(\"Total Energy per tCO2 = %s kWh/tCO2\" % round(total_energy_per_tCO2_large_buildings,2))\n",
        "\n",
        "GJ_per_tCO2_large_buildings = (total_energy_per_tCO2_large_buildings*3600)/1000000\n",
        "print(\"Total Energy = %s GJ/tCO2\" % round(GJ_per_tCO2_large_buildings,2))"
      ],
      "metadata": {
        "colab": {
          "base_uri": "https://localhost:8080/"
        },
        "id": "VLjqmZ7IP4Kk",
        "outputId": "ef057714-0a27-4490-c2f5-136ca65e8d1c"
      },
      "execution_count": 34,
      "outputs": [
        {
          "output_type": "stream",
          "name": "stdout",
          "text": [
            "Min Work = 486.72 kJ/kgCO2\n",
            "Fan energy for all buildings = 0.3 kW\n",
            "Separation energy = 2.52 kW\n",
            "Compression energy = 0.37 kW\n",
            "Total power requirement = 3.19 kW\n",
            "Total annual energy requirement = 27970.71 kWh\n",
            "Total Energy per tCO2 = 427.95 kWh/tCO2\n",
            "Total Energy = 1.54 GJ/tCO2\n"
          ]
        }
      ]
    },
    {
      "cell_type": "code",
      "source": [
        "# small buildings\n",
        "\n",
        "NumBuild_small = 69416\n",
        "TotalSF_small =  250000000# ft2\n",
        "ACPH_small = 0.35\n",
        "CO2ppm_smallbuildings = 480 #ppm\n",
        "\n",
        "small_building_emissions = total_small_building_annual_CO2_circulation_rate_night # tCO2/y\n",
        "\n",
        "\n",
        "areaPB_small = round(Area(NumBuild_small, TotalSF_small), 2)\n",
        "airflow_small = round(AirFlowRate_buildings(areaPB_small, ACPH_small),2)\n",
        "capratePB_small = round(CapRate(airflow_small, CO2ppm_smallbuildings),2)\n",
        "caprate_small = CapRate(airflow_small, CO2ppm_smallbuildings)*NumBuild_small\n",
        "\n",
        "min_work_small_buildings = Wmin_kJkg(CO2ppm_smallbuildings)\n",
        "print (\"Min Work = %s kJ/kgCO2\" % round(min_work_small_buildings, 2))\n",
        "\n",
        "fanE_small_buildings = Wfan(dP_contactor, airflow_small)\n",
        "print (\"Fan energy for all buildings = %s kW\" % round(fanE_small_buildings,4))\n",
        "\n",
        "sepE_small_buildings = Wsep(capratePB_small, CO2ppm_smallbuildings)\n",
        "print (\"Separation energy = %s kW\" % round(sepE_small_buildings,2))\n",
        "\n",
        "compE_small_buildings = Wcomp(capratePB_small, Compression_P)\n",
        "print (\"Compression energy = %s kW\" % round(compE_small_buildings,2))\n",
        "\n",
        "total_power_small_buildings = fanE_small_buildings + sepE_small_buildings + compE_small_buildings\n",
        "print (\"Total power requirement = %s kW\" % round(total_power_small_buildings,2))\n",
        "\n",
        "spy = 3.154*(10**7)\n",
        "total_annual_energy_small_buildings = (total_power_small_buildings*8760) #kWh\n",
        "print (\"Total annual energy requirement = %s kWh\" % round(total_annual_energy_small_buildings,2))\n",
        "\n",
        "total_energy_per_tCO2_small_buildings = total_annual_energy_small_buildings/(capratePB_small) #kWh / tCO2\n",
        "\n",
        "GJ_per_tCO2_small_buildings = (total_energy_per_tCO2_small_buildings*3600)/1000000\n",
        "print(\"Total Energy = %s GJ/tCO2\" % round(GJ_per_tCO2_small_buildings,2))"
      ],
      "metadata": {
        "colab": {
          "base_uri": "https://localhost:8080/"
        },
        "id": "OaPRU46OQ6w8",
        "outputId": "422e99c8-ea37-4474-eca2-8e132c9d5144"
      },
      "execution_count": 35,
      "outputs": [
        {
          "output_type": "stream",
          "name": "stdout",
          "text": [
            "Min Work = 486.72 kJ/kgCO2\n",
            "Fan energy for all buildings = 0.0125 kW\n",
            "Separation energy = 0.1 kW\n",
            "Compression energy = 0.02 kW\n",
            "Total power requirement = 0.13 kW\n",
            "Total annual energy requirement = 1164.15 kWh\n",
            "Total Energy = 1.54 GJ/tCO2\n"
          ]
        }
      ]
    },
    {
      "cell_type": "code",
      "source": [
        "# traffic tunnels\n",
        "\n",
        "tunnel_area = 7*0.5 #m2\n",
        "linvel_air_tunnels = 1.47 # m/s from Deng et al model\n",
        "CO2ppm_tunnels = 1000 #ppm\n",
        "\n",
        "min_work_tunnels = Wmin_kJkg(CO2ppm_tunnels)\n",
        "print (\"Min Work = %s kJ/kgCO2\" % round(min_work_tunnels, 2))\n",
        "\n",
        "airflow_tunnels = tunnel_area*linvel_air_tunnels # m3/s\n",
        "print (\"Airflow = %s m3/s\" % round(airflow_tunnels,2))\n",
        "\n",
        "caprate_pertunnel = CapRate(airflow_tunnels, CO2ppm_tunnels)\n",
        "print (\"Annual Cap Rate = %s t/y\" % round(caprate_pertunnel,2))\n",
        "\n",
        "fanE_tunnels = Wfan(dP_contactor, airflow_tunnels)\n",
        "print (\"Fan energy for all tunnels = %s kW\" % round(fanE_tunnels,2))\n",
        "\n",
        "sepE_tunnels = Wsep(caprate_pertunnel, CO2ppm_tunnels)\n",
        "print (\"Separation energy = %s kW\" % round(sepE_tunnels,2))\n",
        "\n",
        "compE_tunnels = Wcomp(capratePT, Compression_P)\n",
        "print (\"Compression energy = %s kW\" % round(compE_tunnels,2))\n",
        "\n",
        "total_power_tunnels = fanE_tunnels + sepE_tunnels + compE_tunnels\n",
        "print (\"Total power requirement = %s kW\" % round(total_power_tunnels,2))\n",
        "\n",
        "spy = 3.154*(10**7)\n",
        "total_annual_energy_tunnels = (total_power_tunnels*spy)/3600 #kWh\n",
        "print (\"Total annual energy requirement = %s kWh\" % round(total_annual_energy_tunnels,2))\n",
        "\n",
        "total_energy_per_tCO2_tunnels = total_annual_energy_tunnels/(capratePT) #kWh / tCO2\n",
        "\n",
        "GJ_per_tCO2_tunnels = (total_energy_per_tCO2_tunnels*3600)/1000000\n",
        "print(\"Total Energy = %s GJ/tCO2\" % round(GJ_per_tCO2_tunnels,2))"
      ],
      "metadata": {
        "colab": {
          "base_uri": "https://localhost:8080/"
        },
        "id": "vYpz4SV2ep9B",
        "outputId": "5f3d872f-3b9b-4188-bc86-4bb0655449f3"
      },
      "execution_count": 36,
      "outputs": [
        {
          "output_type": "stream",
          "name": "stdout",
          "text": [
            "Min Work = 445.37 kJ/kgCO2\n",
            "Airflow = 5.14 m3/s\n",
            "Annual Cap Rate = 291.92 t/y\n",
            "Fan energy for all tunnels = 0.64 kW\n",
            "Separation energy = 10.31 kW\n",
            "Compression energy = 1.66 kW\n",
            "Total power requirement = 12.61 kW\n",
            "Total annual energy requirement = 110456.02 kWh\n",
            "Total Energy = 1.36 GJ/tCO2\n"
          ]
        }
      ]
    },
    {
      "cell_type": "code",
      "source": [
        "# baseline - capturing CO2 from the rural ambient\n",
        "\n",
        "CO2ppm_rural = 420 #ppm\n",
        "\n",
        "# assumed capture rate for centralized rural installation:\n",
        "\n",
        "CapRate_rural = 100000 #tCO2/y\n",
        "\n",
        "def VperTonneCO2_rural(CO2ppm_rural):\n",
        "    R = 8.314 # gas constant\n",
        "    T = 298.15 # temperature\n",
        "    M_CO2 = 44.01 # molar mass of CO2\n",
        "    VperTonneCO2 = ((1000000*R*T/101325)/(CO2ppm*M_CO2))*(1000000)\n",
        "    return VperTonneCO2 # m3/tCO2\n",
        "\n",
        "def AirFlowRate_rural(CO2ppm,linvel,CapRate):\n",
        "    R = 8.314 # gas constant\n",
        "    T = 298.15 # temperature\n",
        "    M_CO2 = 44.01 # molar mass of CO2\n",
        "    VperTonneCO2 = ((1000000*R*T/101325)/(CO2ppm*M_CO2))*(1000000)\n",
        "    cf = 1\n",
        "    mu = 0.9\n",
        "    spy = 3.154*(10**7)\n",
        "    Area = VperTonneCO2*CapRate/(linvel*cf*mu*spy)\n",
        "    AirFlowRate_rural = Area*linvel\n",
        "    return AirFlowRate_rural\n",
        "\n",
        "AFR = AirFlowRate_rural(CO2ppm_rural,2,CapRate_rural)\n",
        "print (\"Airflow = %s m3/s\" % round(AFR,2))\n",
        "\n",
        "def Wfan_rural(dP_contactor, AirFlowRate):\n",
        "    fan_efficiency = 0.6\n",
        "    Wfan = dP_contactor* AirFlowRate / fan_efficiency / 1000\n",
        "    return Wfan # kJ/s\n",
        "\n",
        "WfanRU = Wfan_rural(75, AFR)\n",
        "print (\"Fan energy for all buildings = %s kW\" % round(WfanRU,2))\n",
        "\n",
        "\n",
        "def Wsep_rural(CapRate, CO2ppm):\n",
        "    rel_effciency = 0.4\n",
        "    w = (Wmin_kJkg(CO2ppm)/0.4) #kJ/kg\n",
        "    spy = 3.154*(10**7)\n",
        "    kgCO2perS = (CapRate*1000)/spy\n",
        "    Wsep = w * kgCO2perS\n",
        "    return Wsep #kJ/s\n",
        "\n",
        "Wsep_RU = Wsep_rural(CapRate_rural, CO2ppm_rural)\n",
        "print (\"Separation energy = %s kW\" % round(Wsep_RU,2))\n",
        "\n",
        "def Wcomp_rural(TotalCapRate, Compression_P):\n",
        "    # work of isothermal compression of pure stream of CO2\n",
        "    R = 8.314 # gas constant\n",
        "    T = 298.15 # temperature\n",
        "    M_CO2 = 44.01 # molar mass of CO2\n",
        "    spy = 3.154*(10**7)\n",
        "    w = (TotalCapRate/spy)*(1000000/M_CO2) #mol/s CO2\n",
        "    Wcomp = (w*R*T*np.log(Compression_P/1))/1000\n",
        "    return Wcomp #kJ/s\n",
        "\n",
        "Compression_P = 24.1 # bar\n",
        "\n",
        "Wcomp_RU = Wcomp_rural(CapRate_rural, Compression_P)\n",
        "print (\"Compression energy = %s kW\" % round(Wcomp_RU,2))\n",
        "\n",
        "total_power_RU = WfanRU + Wsep_RU + Wcomp_RU\n",
        "print (\"Total power requirement = %s kW\" % round(total_power_RU,2))\n",
        "\n",
        "spy = 3.154*(10**7)\n",
        "total_annual_energy_RU = (total_power_RU*spy)/3600 #kWh\n",
        "print (\"Total annual energy requirement = %s kWh\" % round(total_annual_energy_RU,2))\n",
        "\n",
        "total_energy_per_tCO2_RU = total_annual_energy_RU/(CapRate_rural) #kWh / tCO2\n",
        "\n",
        "GJ_per_tCO2_RU = (total_energy_per_tCO2_RU*3600)/1000000\n",
        "print(\"Total Energy = %s GJ/tCO2\" % round(GJ_per_tCO2_RU,2))\n",
        "\n"
      ],
      "metadata": {
        "colab": {
          "base_uri": "https://localhost:8080/"
        },
        "id": "TTkp7jClxd27",
        "outputId": "279f8712-8c87-4c9f-dfb0-655c6358ebff"
      },
      "execution_count": 37,
      "outputs": [
        {
          "output_type": "stream",
          "name": "stdout",
          "text": [
            "Airflow = 4662.55 m3/s\n",
            "Fan energy for all buildings = 582.82 kW\n",
            "Separation energy = 3917.61 kW\n",
            "Compression energy = 568.28 kW\n",
            "Total power requirement = 5068.71 kW\n",
            "Total annual energy requirement = 44407499.91 kWh\n",
            "Total Energy = 1.6 GJ/tCO2\n"
          ]
        }
      ]
    },
    {
      "cell_type": "code",
      "source": [
        "# energy savings for urban capture compared to rural ambient\n",
        "\n",
        "# large buildings\n",
        "\n",
        "energy_savings_large_building_capture = (1 - (GJ_per_tCO2_large_buildings/GJ_per_tCO2_RU))*100\n",
        "print (\"Energy savings for large buildings = %s percent\" % round(energy_savings_large_building_capture,2))\n",
        "\n",
        "# small buildings\n",
        "\n",
        "energy_savings_small_building_capture = (1 - (GJ_per_tCO2_small_buildings/GJ_per_tCO2_RU))*100\n",
        "print (\"Energy savings for small buildings = %s percent\" % round(energy_savings_small_building_capture,2))\n",
        "\n",
        "# tunnels\n",
        "\n",
        "energy_savings_tunnels = (1 - (GJ_per_tCO2_tunnels/GJ_per_tCO2_RU))*100\n",
        "print (\"Energy savings for tunnels = %s percent\" % round(energy_savings_tunnels,2))\n",
        "\n"
      ],
      "metadata": {
        "colab": {
          "base_uri": "https://localhost:8080/"
        },
        "id": "qN8e0P9tyzp5",
        "outputId": "541b470f-af00-49a7-d96c-e8746099be38"
      },
      "execution_count": 38,
      "outputs": [
        {
          "output_type": "stream",
          "name": "stdout",
          "text": [
            "Energy savings for large buildings = 3.63 percent\n",
            "Energy savings for small buildings = 3.62 percent\n",
            "Energy savings for tunnels = 14.8 percent\n"
          ]
        }
      ]
    },
    {
      "cell_type": "markdown",
      "source": [
        "# Part 3: Energy Source"
      ],
      "metadata": {
        "id": "60knu2eC-MBl"
      }
    },
    {
      "cell_type": "code",
      "source": [
        "# net CO2 captured when different energy sources are used\n",
        "\n",
        "# annual captured CO2 by location (per location)\n",
        "\n",
        "captured_CO2 = {\n",
        "    'large_buildings' : large_building_annual_CO2_circulation_rate_day,\n",
        "    'small_buildings' : small_building_annual_CO2_circulation_rate_night,\n",
        "    'traffic_tunnels' : capratePT,\n",
        "}\n",
        "\n",
        "captured_CO2_df = pd.DataFrame.from_dict(captured_CO2, orient='index', columns=['CO2 (tCO2/y)'])\n",
        "\n",
        "# emissions for each energy source in gCO2 per kWh\n",
        "\n",
        "emission_factors = {\n",
        "    'wind'         :  7.0,\n",
        "    'solar'        : 50.0,\n",
        "    'nuclear'      : 56.0,\n",
        "    'hydro'        : 24.0,\n",
        "    'coal'         : 1023.5,\n",
        "    'natural_gas'  : 440.7,\n",
        "    'petroleum'    : 1095.1,\n",
        "    'MA_grid_2020' : 436.0,\n",
        "    'MA_grid_2030' : 131.0,\n",
        "}\n",
        "\n",
        "\n",
        "# annual energy consumption for different locations\n",
        "\n",
        "energy_required_per_capture_location = { # in kWh/y\n",
        "    'large_buildings' : total_annual_energy_large_buildings*0.375,\n",
        "    'small_buildings' : total_annual_energy_small_buildings*0.625,\n",
        "    'traffic_tunnels' : total_annual_energy_tunnels,\n",
        "}\n",
        "\n",
        "# emissions from energy source\n",
        "\n",
        "emissions_from_energy_source = {}\n",
        "\n",
        "for location, annual_energy in energy_required_per_capture_location.items():\n",
        "  emissions_from_energy_source[location] = {}\n",
        "  for source in emission_factors:\n",
        "    calc = ((annual_energy * emission_factors[source])/1000000) # kWh/y * gCO2/kWh / 1000000 = tCO2/y\n",
        "    emissions_from_energy_source[location][source] = calc\n",
        "\n",
        "# net CO2 captures\n",
        "\n",
        "net_CO2_captured = {}\n",
        "\n",
        "for location, captured in captured_CO2.items():\n",
        "    net_CO2_captured[location] = {}\n",
        "    emissions_from_energy_source_at_location = emissions_from_energy_source[location]\n",
        "    for source, emission in emissions_from_energy_source_at_location.items():\n",
        "        net_CO2_captured[location][source] = captured - emission\n",
        "\n",
        "net_CO2_captured_df = pd.DataFrame(net_CO2_captured)\n",
        "print('NET CO2 CAPTURED')\n",
        "print(net_CO2_captured_df)\n",
        "\n",
        "percent_negated = {}\n",
        "\n",
        "for location, captured in captured_CO2.items():\n",
        "    percent_negated[location] = {}\n",
        "    emissions_from_energy_source_at_location = emissions_from_energy_source[location]\n",
        "    for source, emission in emissions_from_energy_source_at_location.items():\n",
        "        percent_negated[location][source] = 100 - ((captured - emission) / captured * 100)\n",
        "\n",
        "percent_negated_df = pd.DataFrame(percent_negated)\n",
        "print('PERCENT NEGATED')\n",
        "print(percent_negated_df)\n",
        "\n",
        "\n"
      ],
      "metadata": {
        "colab": {
          "base_uri": "https://localhost:8080/"
        },
        "id": "75iH1M2R-PYj",
        "outputId": "25a6dee0-55ae-4156-c64b-a57b5a741228"
      },
      "execution_count": 39,
      "outputs": [
        {
          "output_type": "stream",
          "name": "stdout",
          "text": [
            "NET CO2 CAPTURED\n",
            "              large_buildings  small_buildings  traffic_tunnels\n",
            "wind                24.461838         1.656428       291.151086\n",
            "solar               24.010811         1.625142       286.401477\n",
            "nuclear             23.947877         1.620776       285.738741\n",
            "hydro               24.283525         1.644059       289.273334\n",
            "coal                13.799754         0.916827       178.872544\n",
            "natural_gas         19.912752         1.340870       243.246311\n",
            "petroleum           13.048741         0.864731       170.963894\n",
            "MA_grid_2020        19.962051         1.344290       243.765455\n",
            "MA_grid_2030        23.161200         1.566206       277.454540\n",
            "PERCENT NEGATED\n",
            "              large_buildings  small_buildings  traffic_tunnels\n",
            "wind                 0.299255         0.306537         0.264861\n",
            "solar                2.137539         2.189548         1.891861\n",
            "nuclear              2.394044         2.452293         2.118884\n",
            "hydro                1.026019         1.050983         0.908093\n",
            "coal                43.755423        44.820039        38.726390\n",
            "natural_gas         18.840268        19.298672        16.674861\n",
            "petroleum           46.816379        47.955471        41.435534\n",
            "MA_grid_2020        18.639340        19.092855        16.497026\n",
            "MA_grid_2030         5.600352         5.736615         4.956675\n"
          ]
        }
      ]
    },
    {
      "cell_type": "markdown",
      "source": [
        "# Part 4: Removal Logistics"
      ],
      "metadata": {
        "id": "ur794mU2c8o6"
      }
    },
    {
      "cell_type": "code",
      "source": [
        "# removing CO2 from urban area\n",
        "\n",
        "print (\"Total emissions from the city of Boston = %s MtCO2/y\" % round(total_Boston_emissions,2))\n",
        "\n",
        "total_Boston_emission_per_day = (total_Boston_emissions*1000000)/365\n",
        "print (\"Total emissions from the city of Boston per day = %s tCO2/day\" % round(total_Boston_emission_per_day,2))\n",
        "\n",
        "total_capture_locations = number_of_large_buildings + number_of_small_buildings + number_of_major_traffic_tunnels\n",
        "print (\"Total number of capture locations = %s\" % total_capture_locations)\n",
        "\n",
        "avg_capture_per_location = (total_Boston_emission_per_day/total_capture_locations)*1000\n",
        "print (\"Average capture per location = %s tCO2/d\" % round(avg_capture_per_location,2))\n",
        "\n",
        "truck_capacity = 19.2 # tCO2\n",
        "number_of_trucks_required = total_Boston_emission_per_day/truck_capacity\n",
        "print (\"Number of trucks required = %s\" % round(number_of_trucks_required,2))\n",
        "\n",
        "boston_traffic = 536000 # cars per day\n",
        "percent_increase_for_trucks = (number_of_trucks_required/boston_traffic)*100\n",
        "print (\"Percent increase in traffic for trucks = %s percent\" % round(percent_increase_for_trucks,2))\n"
      ],
      "metadata": {
        "colab": {
          "base_uri": "https://localhost:8080/"
        },
        "id": "3Ngx6W6PzAWh",
        "outputId": "1f06a6dd-8ec9-4718-98e8-be3e9c19fc39"
      },
      "execution_count": 40,
      "outputs": [
        {
          "output_type": "stream",
          "name": "stdout",
          "text": [
            "Total emissions from the city of Boston = 4.5 MtCO2/y\n",
            "Total emissions from the city of Boston per day = 12328.77 tCO2/day\n",
            "Total number of capture locations = 86346\n",
            "Average capture per location = 142.78 tCO2/d\n",
            "Number of trucks required = 642.12\n",
            "Percent increase in traffic for trucks = 0.12 percent\n"
          ]
        }
      ]
    },
    {
      "cell_type": "code",
      "source": [
        "# storing sorbent\n",
        "\n",
        "SorbentCapacityLow = 2/1000 # kgCO2 / kgSorbent\n",
        "SorbentCapacityHigh = 200/1000 # kgCO2 / kgSorbent\n",
        "\n",
        "LargeBuildingCapRate = large_building_annual_CO2_circulation_rate*1000 # kgCO2/y\n",
        "SmallBuildingCapRate = small_building_annual_CO2_circulation_rate*1000 # kgCO2/y\n",
        "TrafficTunnelCapRate =  capratePT*1000 # kgCO2/y\n",
        "\n",
        "# large building storage requirement\n",
        "\n",
        "print (\"Large building storage requirement\")\n",
        "\n",
        "LBstorageLOW = (LargeBuildingCapRate/SorbentCapacityLow)/365\n",
        "print (\"Sorbent with low uptake capacity = %s kgSorbent/day\" % round(LBstorageLOW,2))\n",
        "\n",
        "LBstorageHIGH = (LargeBuildingCapRate/SorbentCapacityHigh)/365\n",
        "print (\"Sorbent with high uptake capacity = %s kgSorbent/day\" % round(LBstorageHIGH,2))\n",
        "\n",
        "# small building storage requirement\n",
        "\n",
        "print (\"Small building storage requirement\")\n",
        "\n",
        "SBstorageLOW = (SmallBuildingCapRate/SorbentCapacityLow)/365\n",
        "print (\"Sorbent with low uptake capacity = %s kgSorbent/day\" % round(SBstorageLOW,2))\n",
        "\n",
        "SBstorageHIGH = (SmallBuildingCapRate/SorbentCapacityHigh)/365\n",
        "print (\"Sorbent with high uptake capacity = %s kgSorbent/day\" % round(SBstorageHIGH,2))\n",
        "\n",
        "# traffic tunnel storage requirement\n",
        "\n",
        "print (\"Traffic tunnel storage requirement\")\n",
        "\n",
        "TTstorageLOW = (TrafficTunnelCapRate/SorbentCapacityLow)/365\n",
        "print (\"Sorbent with low uptake capacity = %s kgSorbent/day\" % round(TTstorageLOW,2))\n",
        "\n",
        "TTstorageHIGH = (TrafficTunnelCapRate/SorbentCapacityHigh)/365\n",
        "print (\"Sorbent with high uptake capacity = %s kgSorbent/day\" % round(TTstorageHIGH,2))"
      ],
      "metadata": {
        "colab": {
          "base_uri": "https://localhost:8080/"
        },
        "id": "twHDEj19dARt",
        "outputId": "7adf8dcd-efd1-4926-be3c-3359fa8bfc7a"
      },
      "execution_count": 41,
      "outputs": [
        {
          "output_type": "stream",
          "name": "stdout",
          "text": [
            "Large building storage requirement\n",
            "Sorbent with low uptake capacity = 82624.45 kgSorbent/day\n",
            "Sorbent with high uptake capacity = 826.24 kgSorbent/day\n",
            "Small building storage requirement\n",
            "Sorbent with low uptake capacity = 3470.99 kgSorbent/day\n",
            "Sorbent with high uptake capacity = 34.71 kgSorbent/day\n",
            "Traffic tunnel storage requirement\n",
            "Sorbent with low uptake capacity = 399896.27 kgSorbent/day\n",
            "Sorbent with high uptake capacity = 3998.96 kgSorbent/day\n"
          ]
        }
      ]
    }
  ]
}